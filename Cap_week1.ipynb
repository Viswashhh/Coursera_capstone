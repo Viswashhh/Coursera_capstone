{
 "cells": [
  {
   "cell_type": "markdown",
   "metadata": {
    "collapsed": true
   },
   "source": [
    "##### *By Bishwas Basnet- Formulation stage of Problem*\n",
    "# Introduction and Business Problem\n",
    "\n",
    "## Introduction:\n",
    "\n",
    "- The city of Hoboken, NJ is relatively small at ~1 square mile but it is packed with restaurants, night life and amazing people. For people that are new to Hoboken, despite its small geographic size, it can be daunting to figure out what restaurants are worth going to and where they are. For people that used to live in Hoboken or are visiting Hoboken, how do you know what the best places are to get something to eat?\n",
    "\n",
    "## Business Problem:\n",
    "\n",
    "- For this project, I am going to put on my entrepreneur hat and create a simple guide on where to eat based on Foursquare likes, restaurant category and geographic location data for restaurants in Hoboken. I will then cluster these restaurants based on their similarities so that a user can easily determine what type of restaurants are best to eat at based on Foursquare user feedback.\n",
    "\n",
    "# Data Required\n",
    "\n",
    "For this assignment, I will be utilizing the Foursquare API to pull the following location data on restaurants in Hoboken, NJ:\n",
    "\n",
    "- Venue Name\n",
    "- Venue ID\n",
    "- Venue Location\n",
    "- Venue Category\n",
    "- Count of Likes"
   ]
  }
 ],
 "metadata": {
  "kernelspec": {
   "display_name": "Python 3.6",
   "language": "python",
   "name": "python3"
  },
  "language_info": {
   "codemirror_mode": {
    "name": "ipython",
    "version": 3
   },
   "file_extension": ".py",
   "mimetype": "text/x-python",
   "name": "python",
   "nbconvert_exporter": "python",
   "pygments_lexer": "ipython3",
   "version": "3.6.9"
  }
 },
 "nbformat": 4,
 "nbformat_minor": 1
}
